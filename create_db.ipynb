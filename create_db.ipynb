{
 "cells": [
  {
   "cell_type": "markdown",
   "metadata": {},
   "source": [
    "## Reading documents"
   ]
  },
  {
   "cell_type": "code",
   "execution_count": 1,
   "metadata": {},
   "outputs": [],
   "source": [
    "import os\n",
    "\n",
    "from langchain_community.document_loaders import PyPDFLoader"
   ]
  },
  {
   "cell_type": "code",
   "execution_count": 2,
   "metadata": {},
   "outputs": [],
   "source": [
    "DATA_FOLDER = 'data'\n",
    "FILE_NAME = 'numpy-user.pdf'\n",
    "DATA_PATH = os.path.join(DATA_FOLDER, FILE_NAME)\n",
    "\n",
    "loader = PyPDFLoader(DATA_PATH)\n",
    "document = loader.load()"
   ]
  },
  {
   "cell_type": "code",
   "execution_count": 3,
   "metadata": {},
   "outputs": [],
   "source": [
    "from langchain.text_splitter import RecursiveCharacterTextSplitter"
   ]
  },
  {
   "cell_type": "code",
   "execution_count": 5,
   "metadata": {},
   "outputs": [
    {
     "data": {
      "text/plain": [
       "(170, 860)"
      ]
     },
     "execution_count": 5,
     "metadata": {},
     "output_type": "execute_result"
    }
   ],
   "source": [
    "text_splitter = RecursiveCharacterTextSplitter(\n",
    "    chunk_size = 500,\n",
    "    chunk_overlap = 100,\n",
    "    add_start_index = True\n",
    ")\n",
    "\n",
    "chunks = text_splitter.split_documents(document)\n",
    "\n",
    "len(document), len(chunks)"
   ]
  },
  {
   "cell_type": "code",
   "execution_count": 6,
   "metadata": {},
   "outputs": [
    {
     "name": "stdout",
     "output_type": "stream",
     "text": [
      "The function zeros creates an array full of zeros, the function ones creates an array full of ones, and the function\n",
      "empty creates an array whose initial content is random and depends on the state of the memory. By default, the dtype\n",
      "of the created array is float64 .\n",
      ">>>np.zeros( (3,4) )\n",
      "array([[ 0., 0., 0., 0.],\n",
      "[ 0., 0., 0., 0.],\n",
      "[ 0., 0., 0., 0.]])\n",
      ">>>np.ones( (2,3,4), dtype=np.int16 ) # dtype can also be specified\n",
      "array([[[ 1, 1, 1, 1],\n",
      "[ 1, 1, 1, 1],\n",
      "[ 1, 1, 1, 1]],\n",
      "[[ 1, 1, 1, 1],\n",
      "{'source': 'data/numpy-user.pdf', 'page': 14, 'start_index': 447}\n"
     ]
    }
   ],
   "source": [
    "document = chunks[42]\n",
    "\n",
    "print(document.page_content)\n",
    "print(document.metadata)"
   ]
  },
  {
   "cell_type": "markdown",
   "metadata": {},
   "source": [
    "## Embeddings"
   ]
  },
  {
   "cell_type": "code",
   "execution_count": 7,
   "metadata": {},
   "outputs": [],
   "source": [
    "from langchain_chroma import Chroma\n",
    "\n",
    "from langchain_community.embeddings.sentence_transformer import (\n",
    "    SentenceTransformerEmbeddings,\n",
    ")"
   ]
  },
  {
   "cell_type": "code",
   "execution_count": 8,
   "metadata": {},
   "outputs": [
    {
     "name": "stderr",
     "output_type": "stream",
     "text": [
      "/opt/anaconda3/envs/qaenv/lib/python3.10/site-packages/langchain_core/_api/deprecation.py:139: LangChainDeprecationWarning: The class `HuggingFaceEmbeddings` was deprecated in LangChain 0.2.2 and will be removed in 0.3.0. An updated version of the class exists in the langchain-huggingface package and should be used instead. To use it run `pip install -U langchain-huggingface` and import as `from langchain_huggingface import HuggingFaceEmbeddings`.\n",
      "  warn_deprecated(\n",
      "/opt/anaconda3/envs/qaenv/lib/python3.10/site-packages/sentence_transformers/cross_encoder/CrossEncoder.py:11: TqdmWarning: IProgress not found. Please update jupyter and ipywidgets. See https://ipywidgets.readthedocs.io/en/stable/user_install.html\n",
      "  from tqdm.autonotebook import tqdm, trange\n"
     ]
    }
   ],
   "source": [
    "embedding_function = SentenceTransformerEmbeddings(model_name=\"multi-qa-MiniLM-L6-cos-v1\")"
   ]
  },
  {
   "cell_type": "code",
   "execution_count": 9,
   "metadata": {},
   "outputs": [],
   "source": [
    "db = Chroma.from_documents(chunks, embedding_function, persist_directory=\"chroma_db\")\n",
    "# db = Chroma(persist_directory=\"./chroma_db\", embedding_function=embedding_function)"
   ]
  },
  {
   "cell_type": "code",
   "execution_count": 10,
   "metadata": {},
   "outputs": [],
   "source": [
    "query = \"What is an array?\"\n",
    "\n",
    "docs = db.similarity_search(query)"
   ]
  },
  {
   "cell_type": "code",
   "execution_count": 14,
   "metadata": {},
   "outputs": [
    {
     "name": "stdout",
     "output_type": "stream",
     "text": [
      "NumPy User Guide, Release 1.18.4\n",
      "0.0 0.5 1.0 1.5 2.0 2.5 3.0 3.5 4.00.00.20.40.60.8\n",
      "0.0 0.5 1.0 1.5 2.0 2.5 3.0 3.5 4.00.00.20.40.60.8\n",
      "2.8. Tricks and Tips 31\n",
      "Python. Indeed, the NumPy idiom is even simpler! This last example illustrates two of NumPy’s features which are\n",
      "the basis of much of its power: vectorization and broadcasting.\n",
      "1.1.1 Why is NumPy Fast?\n",
      "Vectorization describes the absence of any explicit looping, indexing, etc., in the code - these things are taking place,\n",
      "of course, just “behind the scenes” in optimized, pre-compiled C code. Vectorized code has many advantages, among\n",
      "which are:\n",
      "NumPy User Guide, Release 1.18.4\n",
      "So note that x[0,2] = x[0][2] though the second case is more inefﬁcient as a new temporary array is created\n",
      "after the ﬁrst index that is subsequently indexed by 2.\n",
      "Note to those used to IDL or Fortran memory order as it relates to indexing. NumPy uses C-order indexing. That\n",
      "means that the last index usually represents the most rapidly changing memory location, unlike Fortran or IDL, where\n",
      "CHAPTER\n",
      "ONE\n",
      "SETTING UP\n",
      "1.1 What is NumPy?\n",
      "NumPy is the fundamental package for scientiﬁc computing in Python. It is a Python library that provides a multidi-\n",
      "mensional array object, various derived objects (such as masked arrays and matrices), and an assortment of routines for\n",
      "fast operations on arrays, including mathematical, logical, shape manipulation, sorting, selecting, I/O, discrete Fourier\n",
      "transforms, basic linear algebra, basic statistical operations, random simulation and much more.\n"
     ]
    }
   ],
   "source": [
    "print(docs[0].page_content)\n",
    "print(docs[1].page_content)\n",
    "print(docs[2].page_content)\n",
    "print(docs[3].page_content)"
   ]
  },
  {
   "cell_type": "code",
   "execution_count": 15,
   "metadata": {},
   "outputs": [],
   "source": [
    "docs = db.similarity_search_with_relevance_scores(query, k = 4)"
   ]
  },
  {
   "cell_type": "code",
   "execution_count": 16,
   "metadata": {},
   "outputs": [
    {
     "data": {
      "text/plain": [
       "[(Document(metadata={'page': 34, 'source': 'data/numpy-user.pdf', 'start_index': 0}, page_content='NumPy User Guide, Release 1.18.4\\n0.0 0.5 1.0 1.5 2.0 2.5 3.0 3.5 4.00.00.20.40.60.8\\n0.0 0.5 1.0 1.5 2.0 2.5 3.0 3.5 4.00.00.20.40.60.8\\n2.8. Tricks and Tips 31'),\n",
       "  0.44000843726782),\n",
       " (Document(metadata={'page': 7, 'source': 'data/numpy-user.pdf', 'start_index': 798}, page_content='Python. Indeed, the NumPy idiom is even simpler! This last example illustrates two of NumPy’s features which are\\nthe basis of much of its power: vectorization and broadcasting.\\n1.1.1 Why is NumPy Fast?\\nVectorization describes the absence of any explicit looping, indexing, etc., in the code - these things are taking place,\\nof course, just “behind the scenes” in optimized, pre-compiled C code. Vectorized code has many advantages, among\\nwhich are:'),\n",
       "  0.4229862102380887),\n",
       " (Document(metadata={'page': 51, 'source': 'data/numpy-user.pdf', 'start_index': 0}, page_content='NumPy User Guide, Release 1.18.4\\nSo note that x[0,2] = x[0][2] though the second case is more inefﬁcient as a new temporary array is created\\nafter the ﬁrst index that is subsequently indexed by 2.\\nNote to those used to IDL or Fortran memory order as it relates to indexing. NumPy uses C-order indexing. That\\nmeans that the last index usually represents the most rapidly changing memory location, unlike Fortran or IDL, where'),\n",
       "  0.42241941941931416),\n",
       " (Document(metadata={'page': 6, 'source': 'data/numpy-user.pdf', 'start_index': 0}, page_content='CHAPTER\\nONE\\nSETTING UP\\n1.1 What is NumPy?\\nNumPy is the fundamental package for scientiﬁc computing in Python. It is a Python library that provides a multidi-\\nmensional array object, various derived objects (such as masked arrays and matrices), and an assortment of routines for\\nfast operations on arrays, including mathematical, logical, shape manipulation, sorting, selecting, I/O, discrete Fourier\\ntransforms, basic linear algebra, basic statistical operations, random simulation and much more.'),\n",
       "  0.40893950856637795)]"
      ]
     },
     "execution_count": 16,
     "metadata": {},
     "output_type": "execute_result"
    }
   ],
   "source": [
    "docs"
   ]
  },
  {
   "cell_type": "code",
   "execution_count": null,
   "metadata": {},
   "outputs": [],
   "source": []
  }
 ],
 "metadata": {
  "kernelspec": {
   "display_name": "qaenv",
   "language": "python",
   "name": "python3"
  },
  "language_info": {
   "codemirror_mode": {
    "name": "ipython",
    "version": 3
   },
   "file_extension": ".py",
   "mimetype": "text/x-python",
   "name": "python",
   "nbconvert_exporter": "python",
   "pygments_lexer": "ipython3",
   "version": "3.10.14"
  }
 },
 "nbformat": 4,
 "nbformat_minor": 2
}
