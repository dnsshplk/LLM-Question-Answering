{
 "cells": [
  {
   "cell_type": "markdown",
   "metadata": {},
   "source": [
    "## Reading documents"
   ]
  },
  {
   "cell_type": "code",
   "execution_count": 1,
   "metadata": {},
   "outputs": [],
   "source": [
    "import os\n",
    "\n",
    "from langchain_community.document_loaders import PyPDFLoader"
   ]
  },
  {
   "cell_type": "code",
   "execution_count": 2,
   "metadata": {},
   "outputs": [],
   "source": [
    "DATA_PATH = r'data\\Robinson_Crusoe.pdf'\n",
    "\n",
    "loader = PyPDFLoader(DATA_PATH)\n",
    "document = loader.load()"
   ]
  },
  {
   "cell_type": "code",
   "execution_count": 3,
   "metadata": {},
   "outputs": [],
   "source": [
    "from langchain.text_splitter import RecursiveCharacterTextSplitter"
   ]
  },
  {
   "cell_type": "code",
   "execution_count": 4,
   "metadata": {},
   "outputs": [
    {
     "data": {
      "text/plain": [
       "(390, 1769)"
      ]
     },
     "execution_count": 4,
     "metadata": {},
     "output_type": "execute_result"
    }
   ],
   "source": [
    "text_splitter = RecursiveCharacterTextSplitter(\n",
    "    chunk_size = 500,\n",
    "    chunk_overlap = 100,\n",
    "    add_start_index = True\n",
    ")\n",
    "\n",
    "chunks = text_splitter.split_documents(document)\n",
    "\n",
    "len(document), len(chunks)"
   ]
  },
  {
   "cell_type": "code",
   "execution_count": 5,
   "metadata": {},
   "outputs": [
    {
     "name": "stdout",
     "output_type": "stream",
     "text": [
      "These wise and sober thoughts continued all the while the storm lasted, and \n",
      "indeed some time after; but the next day the wind was abated, and the sea \n",
      "calmer, and I began to be a little inured to it; however, I was very grave for \n",
      "all that day, being also a little sea-sick still; but towards night the weather \n",
      "cleared up, the wind was quite over, and a charming fine evening followed; \n",
      "the sun went down perfectly clear, and rose so the next morning; and having\n",
      "{'source': 'data\\\\Robinson_Crusoe.pdf', 'page': 9, 'start_index': 365}\n"
     ]
    }
   ],
   "source": [
    "document = chunks[42]\n",
    "\n",
    "print(document.page_content)\n",
    "print(document.metadata)"
   ]
  },
  {
   "cell_type": "markdown",
   "metadata": {},
   "source": [
    "## Embeddings"
   ]
  },
  {
   "cell_type": "code",
   "execution_count": 7,
   "metadata": {},
   "outputs": [],
   "source": [
    "from langchain_chroma import Chroma\n",
    "\n",
    "from langchain_community.embeddings.sentence_transformer import (\n",
    "    SentenceTransformerEmbeddings,\n",
    ")"
   ]
  },
  {
   "cell_type": "code",
   "execution_count": 8,
   "metadata": {},
   "outputs": [
    {
     "name": "stderr",
     "output_type": "stream",
     "text": [
      "c:\\Users\\denis\\anaconda3\\envs\\qaenv\\lib\\site-packages\\langchain_core\\_api\\deprecation.py:139: LangChainDeprecationWarning: The class `HuggingFaceEmbeddings` was deprecated in LangChain 0.2.2 and will be removed in 0.3.0. An updated version of the class exists in the langchain-huggingface package and should be used instead. To use it run `pip install -U langchain-huggingface` and import as `from langchain_huggingface import HuggingFaceEmbeddings`.\n",
      "  warn_deprecated(\n",
      "c:\\Users\\denis\\anaconda3\\envs\\qaenv\\lib\\site-packages\\sentence_transformers\\cross_encoder\\CrossEncoder.py:11: TqdmWarning: IProgress not found. Please update jupyter and ipywidgets. See https://ipywidgets.readthedocs.io/en/stable/user_install.html\n",
      "  from tqdm.autonotebook import tqdm, trange\n"
     ]
    }
   ],
   "source": [
    "embedding_function = SentenceTransformerEmbeddings(model_name=\"multi-qa-mpnet-base-dot-v1\")"
   ]
  },
  {
   "cell_type": "code",
   "execution_count": 9,
   "metadata": {},
   "outputs": [],
   "source": [
    "db = Chroma.from_documents(chunks, embedding_function, persist_directory=\"./chroma_db\")\n",
    "# db = Chroma(persist_directory=\"./chroma_db\", embedding_function=embedding_function)"
   ]
  },
  {
   "cell_type": "code",
   "execution_count": 32,
   "metadata": {},
   "outputs": [
    {
     "name": "stderr",
     "output_type": "stream",
     "text": [
      "c:\\Users\\denis\\anaconda3\\envs\\qaenv\\lib\\site-packages\\langchain_core\\vectorstores\\base.py:784: UserWarning: Relevance scores must be between 0 and 1, got [(Document(metadata={'page': 0, 'source': 'data\\\\Robinson_Crusoe.pdf', 'start_index': 0}, page_content='www.freeclassicebooks.com  \\n1  \\nRobinson Crusoe \\n \\nBy  \\n \\nDaniel Defoe \\n \\n \\nwww.freeclassicebooks.com'), -18.17734341382535), (Document(metadata={'page': 1, 'source': 'data\\\\Robinson_Crusoe.pdf', 'start_index': 0}, page_content='www.freeclassicebooks.com  \\n2 Contents \\n \\nChapter 1: Start In Life. ...................................................................................................... .....................3 \\nChapter 2: Slavery And Escape .................................................................................................. ...........20 \\nChapter 3: Wrecked On A Desert Island .......................................................................................... .....37'), -21.34064579460394), (Document(metadata={'page': 306, 'source': 'data\\\\Robinson_Crusoe.pdf', 'start_index': 775}, page_content='him a little, I called him to me, and he came jumping and laughing, and \\npleased to the highest extreme: then I asked him if he had given his father \\nany bread. He shook his head, and said, \"None; ugly dog eat all up self.\" I \\nthen gave him a cake of bread out of a little pouch I carried on purpose; I \\nalso gave him a dram for himself; but he would not taste it, but carried it to \\nhis father. I had in my pocket two or th ree bunches of raisins, so I gave him'), -21.729459575836216)]\n",
      "  warnings.warn(\n"
     ]
    }
   ],
   "source": [
    "query = \"How Robinson Crusoe met the dog?\"\n",
    "\n",
    "docs = db.similarity_search_with_relevance_scores(query, k = 3)"
   ]
  },
  {
   "cell_type": "code",
   "execution_count": 33,
   "metadata": {},
   "outputs": [
    {
     "data": {
      "text/plain": [
       "[(Document(metadata={'page': 0, 'source': 'data\\\\Robinson_Crusoe.pdf', 'start_index': 0}, page_content='www.freeclassicebooks.com  \\n1  \\nRobinson Crusoe \\n \\nBy  \\n \\nDaniel Defoe \\n \\n \\nwww.freeclassicebooks.com'),\n",
       "  -18.17734341382535),\n",
       " (Document(metadata={'page': 1, 'source': 'data\\\\Robinson_Crusoe.pdf', 'start_index': 0}, page_content='www.freeclassicebooks.com  \\n2 Contents \\n \\nChapter 1: Start In Life. ...................................................................................................... .....................3 \\nChapter 2: Slavery And Escape .................................................................................................. ...........20 \\nChapter 3: Wrecked On A Desert Island .......................................................................................... .....37'),\n",
       "  -21.34064579460394),\n",
       " (Document(metadata={'page': 306, 'source': 'data\\\\Robinson_Crusoe.pdf', 'start_index': 775}, page_content='him a little, I called him to me, and he came jumping and laughing, and \\npleased to the highest extreme: then I asked him if he had given his father \\nany bread. He shook his head, and said, \"None; ugly dog eat all up self.\" I \\nthen gave him a cake of bread out of a little pouch I carried on purpose; I \\nalso gave him a dram for himself; but he would not taste it, but carried it to \\nhis father. I had in my pocket two or th ree bunches of raisins, so I gave him'),\n",
       "  -21.729459575836216)]"
      ]
     },
     "execution_count": 33,
     "metadata": {},
     "output_type": "execute_result"
    }
   ],
   "source": [
    "docs"
   ]
  },
  {
   "cell_type": "code",
   "execution_count": null,
   "metadata": {},
   "outputs": [],
   "source": []
  }
 ],
 "metadata": {
  "kernelspec": {
   "display_name": "qaenv",
   "language": "python",
   "name": "python3"
  },
  "language_info": {
   "codemirror_mode": {
    "name": "ipython",
    "version": 3
   },
   "file_extension": ".py",
   "mimetype": "text/x-python",
   "name": "python",
   "nbconvert_exporter": "python",
   "pygments_lexer": "ipython3",
   "version": "3.10.14"
  }
 },
 "nbformat": 4,
 "nbformat_minor": 2
}
