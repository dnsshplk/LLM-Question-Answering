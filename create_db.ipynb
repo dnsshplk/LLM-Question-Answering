{
 "cells": [
  {
   "cell_type": "markdown",
   "metadata": {},
   "source": [
    "## Reading documents"
   ]
  },
  {
   "cell_type": "code",
   "execution_count": 1,
   "metadata": {},
   "outputs": [],
   "source": [
    "import os\n",
    "\n",
    "from langchain_community.document_loaders import PyPDFLoader"
   ]
  },
  {
   "cell_type": "code",
   "execution_count": 2,
   "metadata": {},
   "outputs": [],
   "source": [
    "DATA_PATH = r'data\\Quantum computing for everyone.pdf'\n",
    "\n",
    "loader = PyPDFLoader(DATA_PATH)\n",
    "document = loader.load()"
   ]
  },
  {
   "cell_type": "code",
   "execution_count": 3,
   "metadata": {},
   "outputs": [],
   "source": [
    "from langchain.text_splitter import RecursiveCharacterTextSplitter"
   ]
  },
  {
   "cell_type": "code",
   "execution_count": 4,
   "metadata": {},
   "outputs": [
    {
     "data": {
      "text/plain": [
       "(214, 974)"
      ]
     },
     "execution_count": 4,
     "metadata": {},
     "output_type": "execute_result"
    }
   ],
   "source": [
    "text_splitter = RecursiveCharacterTextSplitter(\n",
    "    chunk_size = 500,\n",
    "    chunk_overlap = 100,\n",
    "    add_start_index = True\n",
    ")\n",
    "\n",
    "chunks = text_splitter.split_documents(document)\n",
    "\n",
    "len(document), len(chunks)"
   ]
  },
  {
   "cell_type": "code",
   "execution_count": 5,
   "metadata": {},
   "outputs": [
    {
     "name": "stdout",
     "output_type": "stream",
     "text": [
      "This chapter introduces the last piece of mathematical machinery, the \n",
      "Kronecker product of matrices. But the difficulty of the material is really \n",
      "caused by the fact that we are computing in a completely new way and we \n",
      "have no experience of thinking about solving problems using these novel  \n",
      "ideas.\n",
      "Chapter 9.  The last chapter looks at the impact that quantum computing \n",
      "is going to have on our lives. We start by giving brief descriptions of two\n",
      "{'source': 'data\\\\Quantum computing for everyone.pdf', 'page': 18, 'start_index': 1210}\n"
     ]
    }
   ],
   "source": [
    "document = chunks[42]\n",
    "\n",
    "print(document.page_content)\n",
    "print(document.metadata)"
   ]
  },
  {
   "cell_type": "markdown",
   "metadata": {},
   "source": [
    "## Embeddings"
   ]
  },
  {
   "cell_type": "code",
   "execution_count": 6,
   "metadata": {},
   "outputs": [],
   "source": [
    "from langchain_chroma import Chroma\n",
    "\n",
    "from langchain_community.embeddings.sentence_transformer import (\n",
    "    SentenceTransformerEmbeddings,\n",
    ")"
   ]
  },
  {
   "cell_type": "code",
   "execution_count": 7,
   "metadata": {},
   "outputs": [
    {
     "name": "stderr",
     "output_type": "stream",
     "text": [
      "c:\\Users\\denis\\anaconda3\\envs\\qaenv\\lib\\site-packages\\langchain_core\\_api\\deprecation.py:139: LangChainDeprecationWarning: The class `HuggingFaceEmbeddings` was deprecated in LangChain 0.2.2 and will be removed in 0.3.0. An updated version of the class exists in the langchain-huggingface package and should be used instead. To use it run `pip install -U langchain-huggingface` and import as `from langchain_huggingface import HuggingFaceEmbeddings`.\n",
      "  warn_deprecated(\n",
      "c:\\Users\\denis\\anaconda3\\envs\\qaenv\\lib\\site-packages\\sentence_transformers\\cross_encoder\\CrossEncoder.py:11: TqdmWarning: IProgress not found. Please update jupyter and ipywidgets. See https://ipywidgets.readthedocs.io/en/stable/user_install.html\n",
      "  from tqdm.autonotebook import tqdm, trange\n"
     ]
    }
   ],
   "source": [
    "embedding_function = SentenceTransformerEmbeddings(model_name=\"all-MiniLM-L6-v2\")"
   ]
  },
  {
   "cell_type": "code",
   "execution_count": 8,
   "metadata": {},
   "outputs": [],
   "source": [
    "db = Chroma.from_documents(chunks, embedding_function, persist_directory=\"./chroma_db\")"
   ]
  },
  {
   "cell_type": "code",
   "execution_count": 19,
   "metadata": {},
   "outputs": [
    {
     "name": "stdout",
     "output_type": "stream",
     "text": [
      "* We will keep using the term spin because it is the standard terminology. But we are \n",
      "just determining the axis of the poles of a magnet.\n",
      "\n",
      "it in that direction. Spin is quantized : When measured, it gives just two pos -\n",
      "sible answers—not a continuous range of answers. We can assign classical \n",
      "bits to these results. For example, if we obtain an N we can consider it to be \n",
      "the binary digit 0, and if we obtain an S we can consider it to be the binary \n",
      "digit 1. This is exactly how we get answers from a quantum computation. \n",
      "The last stage of the computation is to take a measurement. The result will\n",
      "\n",
      "develop a precise mathematical model that describes what happens when \n",
      "we measure spin in various directions. This is started in the next chapter \n",
      "where we study linear algebra—the study of the algebra associated with \n",
      "vectors.\n",
      "\n",
      "that it is or that it is pointing in the direction of six. If we ask if the hand is \n",
      "pointing in the direction of four, it will either tell us it is, or that it is point -\n",
      "ing in the direction of ten. This is a very curious state of affairs, but it is \n",
      "exactly analogous to electron spin.\n",
      "As we said, electron spin is going to be the idea that motivates the defi -\n",
      "nition of the qubit. If we are going to do computations, we need to under -\n",
      "\n"
     ]
    }
   ],
   "source": [
    "query = \"What is spin?\"\n",
    "docs = db.similarity_search(query)\n",
    "\n",
    "# print results\n",
    "print(docs[0].page_content + '\\n')\n",
    "print(docs[1].page_content + '\\n')\n",
    "print(docs[2].page_content + '\\n')\n",
    "print(docs[3].page_content + '\\n')"
   ]
  },
  {
   "cell_type": "code",
   "execution_count": null,
   "metadata": {},
   "outputs": [],
   "source": []
  },
  {
   "cell_type": "code",
   "execution_count": null,
   "metadata": {},
   "outputs": [],
   "source": []
  }
 ],
 "metadata": {
  "kernelspec": {
   "display_name": "qaenv",
   "language": "python",
   "name": "python3"
  },
  "language_info": {
   "codemirror_mode": {
    "name": "ipython",
    "version": 3
   },
   "file_extension": ".py",
   "mimetype": "text/x-python",
   "name": "python",
   "nbconvert_exporter": "python",
   "pygments_lexer": "ipython3",
   "version": "3.10.14"
  }
 },
 "nbformat": 4,
 "nbformat_minor": 2
}
