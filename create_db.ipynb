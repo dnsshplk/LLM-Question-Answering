{
 "cells": [
  {
   "cell_type": "markdown",
   "metadata": {},
   "source": [
    "## Reading documents"
   ]
  },
  {
   "cell_type": "code",
   "execution_count": 2,
   "metadata": {},
   "outputs": [],
   "source": [
    "import os\n",
    "\n",
    "from langchain_community.document_loaders import PyPDFLoader"
   ]
  },
  {
   "cell_type": "code",
   "execution_count": 3,
   "metadata": {},
   "outputs": [],
   "source": [
    "DATA_FOLDER = 'data'\n",
    "FILE_NAME = 'numpy-user.pdf'\n",
    "DATA_PATH = os.path.join(DATA_FOLDER, FILE_NAME)\n",
    "\n",
    "loader = PyPDFLoader(DATA_PATH)\n",
    "document = loader.load()"
   ]
  },
  {
   "cell_type": "code",
   "execution_count": 4,
   "metadata": {},
   "outputs": [],
   "source": [
    "from langchain.text_splitter import RecursiveCharacterTextSplitter"
   ]
  },
  {
   "cell_type": "code",
   "execution_count": 5,
   "metadata": {},
   "outputs": [
    {
     "data": {
      "text/plain": [
       "(170, 860)"
      ]
     },
     "execution_count": 5,
     "metadata": {},
     "output_type": "execute_result"
    }
   ],
   "source": [
    "text_splitter = RecursiveCharacterTextSplitter(\n",
    "    chunk_size = 500,\n",
    "    chunk_overlap = 100,\n",
    "    add_start_index = True\n",
    ")\n",
    "\n",
    "chunks = text_splitter.split_documents(document)\n",
    "\n",
    "len(document), len(chunks)"
   ]
  },
  {
   "cell_type": "code",
   "execution_count": 6,
   "metadata": {},
   "outputs": [
    {
     "name": "stdout",
     "output_type": "stream",
     "text": [
      "The function zeros creates an array full of zeros, the function ones creates an array full of ones, and the function\n",
      "empty creates an array whose initial content is random and depends on the state of the memory. By default, the dtype\n",
      "of the created array is float64 .\n",
      ">>>np.zeros( (3,4) )\n",
      "array([[ 0., 0., 0., 0.],\n",
      "[ 0., 0., 0., 0.],\n",
      "[ 0., 0., 0., 0.]])\n",
      ">>>np.ones( (2,3,4), dtype=np.int16 ) # dtype can also be specified\n",
      "array([[[ 1, 1, 1, 1],\n",
      "[ 1, 1, 1, 1],\n",
      "[ 1, 1, 1, 1]],\n",
      "[[ 1, 1, 1, 1],\n",
      "{'source': 'data\\\\numpy-user.pdf', 'page': 14, 'start_index': 447}\n"
     ]
    }
   ],
   "source": [
    "document = chunks[42]\n",
    "\n",
    "print(document.page_content)\n",
    "print(document.metadata)"
   ]
  },
  {
   "cell_type": "markdown",
   "metadata": {},
   "source": [
    "## Embeddings"
   ]
  },
  {
   "cell_type": "code",
   "execution_count": 1,
   "metadata": {},
   "outputs": [],
   "source": [
    "from langchain_chroma import Chroma\n",
    "\n",
    "from langchain_community.embeddings.sentence_transformer import (\n",
    "    SentenceTransformerEmbeddings,\n",
    ")"
   ]
  },
  {
   "cell_type": "code",
   "execution_count": 2,
   "metadata": {},
   "outputs": [
    {
     "name": "stderr",
     "output_type": "stream",
     "text": [
      "c:\\Users\\denis\\anaconda3\\envs\\qenv\\lib\\site-packages\\langchain_core\\_api\\deprecation.py:139: LangChainDeprecationWarning: The class `HuggingFaceEmbeddings` was deprecated in LangChain 0.2.2 and will be removed in 0.3.0. An updated version of the class exists in the langchain-huggingface package and should be used instead. To use it run `pip install -U langchain-huggingface` and import as `from langchain_huggingface import HuggingFaceEmbeddings`.\n",
      "  warn_deprecated(\n",
      "c:\\Users\\denis\\anaconda3\\envs\\qenv\\lib\\site-packages\\sentence_transformers\\cross_encoder\\CrossEncoder.py:11: TqdmWarning: IProgress not found. Please update jupyter and ipywidgets. See https://ipywidgets.readthedocs.io/en/stable/user_install.html\n",
      "  from tqdm.autonotebook import tqdm, trange\n"
     ]
    }
   ],
   "source": [
    "embedding_function = SentenceTransformerEmbeddings(model_name=\"all-MiniLM-L6-v2\")"
   ]
  },
  {
   "cell_type": "code",
   "execution_count": 3,
   "metadata": {},
   "outputs": [],
   "source": [
    "# db = Chroma.from_documents(chunks, embedding_function, persist_directory=\"chroma_db\")\n",
    "db = Chroma(persist_directory=\"./chroma_db\", embedding_function=embedding_function)"
   ]
  },
  {
   "cell_type": "code",
   "execution_count": 4,
   "metadata": {},
   "outputs": [
    {
     "name": "stderr",
     "output_type": "stream",
     "text": [
      "c:\\Users\\denis\\anaconda3\\envs\\qenv\\lib\\site-packages\\transformers\\models\\bert\\modeling_bert.py:439: UserWarning: 1Torch was not compiled with flash attention. (Triggered internally at ..\\aten\\src\\ATen\\native\\transformers\\cuda\\sdp_utils.cpp:455.)\n",
      "  attn_output = torch.nn.functional.scaled_dot_product_attention(\n"
     ]
    }
   ],
   "source": [
    "query = \"Why is numpy Fast?\"\n",
    "\n",
    "docs = db.similarity_search(query)"
   ]
  },
  {
   "cell_type": "code",
   "execution_count": 5,
   "metadata": {},
   "outputs": [
    {
     "name": "stdout",
     "output_type": "stream",
     "text": [
      "CHAPTER\n",
      "ONE\n",
      "SETTING UP\n",
      "1.1 What is NumPy?\n",
      "NumPy is the fundamental package for scientiﬁc computing in Python. It is a Python library that provides a multidi-\n",
      "mensional array object, various derived objects (such as masked arrays and matrices), and an assortment of routines for\n",
      "fast operations on arrays, including mathematical, logical, shape manipulation, sorting, selecting, I/O, discrete Fourier\n",
      "transforms, basic linear algebra, basic statistical operations, random simulation and much more.\n",
      "Python. Indeed, the NumPy idiom is even simpler! This last example illustrates two of NumPy’s features which are\n",
      "the basis of much of its power: vectorization and broadcasting.\n",
      "1.1.1 Why is NumPy Fast?\n",
      "Vectorization describes the absence of any explicit looping, indexing, etc., in the code - these things are taking place,\n",
      "of course, just “behind the scenes” in optimized, pre-compiled C code. Vectorized code has many advantages, among\n",
      "which are:\n",
      "could be used to pass data between these applications.\n",
      "As Numeric has matured and developed into NumPy, people have been able to write more code directly in NumPy.\n",
      "Often this code is fast-enough for production use, but there are still times that there is a need to access compiled code.\n",
      "Either to get that last bit of efﬁciency out of the algorithm or to make it easier to access widely-available codes written\n",
      "in C/C++ or Fortran.\n",
      "some unusual situations it may be useful to use ﬂoating-point numbers with more precision. Whether this is possible\n",
      "in numpy depends on the hardware and on the development environment: speciﬁcally, x86 machines provide hardware\n",
      "ﬂoating-point with 80-bit precision, and while most C compilers provide this as their long double type, MSVC\n",
      "(standard for Windows builds) makes long double identical to double (64 bits). NumPy makes the compiler’s\n"
     ]
    }
   ],
   "source": [
    "print(docs[0].page_content)\n",
    "print(docs[1].page_content)\n",
    "print(docs[2].page_content)\n",
    "print(docs[3].page_content)"
   ]
  },
  {
   "cell_type": "code",
   "execution_count": 12,
   "metadata": {},
   "outputs": [],
   "source": [
    "docs = db.similarity_search_with_relevance_scores(query, k = 4)"
   ]
  },
  {
   "cell_type": "code",
   "execution_count": 13,
   "metadata": {},
   "outputs": [
    {
     "data": {
      "text/plain": [
       "[(Document(metadata={'page': 41, 'source': 'data\\\\numpy-user.pdf', 'start_index': 913}, page_content='senting variation in that dimension. An example illustrates much better than a verbal description:\\n>>>np.indices((3,3))\\narray([[[0, 0, 0], [1, 1, 1], [2, 2, 2]], [[0, 1, 2], [0, 1, 2], [0, 1, 2]]])\\nThis is particularly useful for evaluating functions of multiple dimensions on a regular grid.\\n3.2.4 Reading Arrays From Disk\\nThis is presumably the most common case of large array creation. The details, of course, depend greatly on the format'),\n",
       "  0.3334464949821496),\n",
       " (Document(metadata={'page': 123, 'source': 'data\\\\numpy-user.pdf', 'start_index': 2955}, page_content='these ﬂags set. This will set the underlying base array writable without causing the\\ncontents to be copied back into the original array.\\nOther useful ﬂags that can be OR’d as additional requirements are:\\n120 Chapter 7. Using NumPy C-API'),\n",
       "  0.332782682118103),\n",
       " (Document(metadata={'page': 122, 'source': 'data\\\\numpy-user.pdf', 'start_index': 2830}, page_content='interface is used so that data does not have to be copied. Objects that can be converted to an\\narray include: 1) any nested sequence object, 2) any object exposing the array interface, 3)\\nany object with an __array__ method (which should return an ndarray), and 4) any scalar\\nobject (becomes a zero-dimensional array). Sub-classes of the ndarray that otherwise ﬁt the\\nrequirements will be passed through. If you want to ensure a base-class ndarray, then use'),\n",
       "  0.3278993796622368),\n",
       " (Document(metadata={'page': 12, 'source': 'data\\\\numpy-user.pdf', 'start_index': 492}, page_content='the same type, indexed by a tuple of non-negative integers. In NumPy dimensions are called axes.\\nFor example, the coordinates of a point in 3D space [1, 2, 1] has one axis. That axis has 3 elements in it, so we\\nsay it has a length of 3. In the example pictured below, the array has 2 axes. The ﬁrst axis has a length of 2, the second\\naxis has a length of 3.\\n[[ 1., 0., 0.],\\n[ 0., 1., 2.]]\\nNumPy’s array class is called ndarray . It is also known by the alias array . Note that numpy.array is not the'),\n",
       "  0.3243425228227055)]"
      ]
     },
     "execution_count": 13,
     "metadata": {},
     "output_type": "execute_result"
    }
   ],
   "source": [
    "docs"
   ]
  },
  {
   "cell_type": "code",
   "execution_count": null,
   "metadata": {},
   "outputs": [],
   "source": []
  }
 ],
 "metadata": {
  "kernelspec": {
   "display_name": "qaenv",
   "language": "python",
   "name": "python3"
  },
  "language_info": {
   "codemirror_mode": {
    "name": "ipython",
    "version": 3
   },
   "file_extension": ".py",
   "mimetype": "text/x-python",
   "name": "python",
   "nbconvert_exporter": "python",
   "pygments_lexer": "ipython3",
   "version": "3.10.14"
  }
 },
 "nbformat": 4,
 "nbformat_minor": 2
}
